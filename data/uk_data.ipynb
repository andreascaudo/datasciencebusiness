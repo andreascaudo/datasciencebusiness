{
 "cells": [
  {
   "cell_type": "markdown",
   "metadata": {},
   "source": [
    "Import UK data\n",
    "\n",
    "Healed data are missing - Actual cases can't be calculated"
   ]
  },
  {
   "cell_type": "code",
   "execution_count": 2,
   "metadata": {},
   "outputs": [],
   "source": [
    "import pandas as pd\n",
    "import glob\n",
    "import os\n",
    "\n",
    "#get path for os \n",
    "path = os.getcwd() + \"/data_source/UK/covid-19-uk-data-master/data/covid-19-indicators-uk.csv\"\n",
    "path = path.replace(\"/\",os.path.sep)\n",
    "\n",
    "columns = [\"total_cases\",\"daily_cases\",\"total_dead\",\"daily_dead\", \"total_test\",\"daily_test\"]\n",
    "\n",
    "dataset = pd.read_csv(path, index_col = 0)"
   ]
  },
  {
   "cell_type": "markdown",
   "metadata": {},
   "source": [
    "Grouping by data and indicator to sum the confirmed cases, deaths and tests among different regions"
   ]
  },
  {
   "cell_type": "code",
   "execution_count": 3,
   "metadata": {},
   "outputs": [],
   "source": [
    "df = df[df. == \"UK\"]\n",
    "dataset = dataset.groupby([\"Date\",\"Indicator\"]).sum()"
   ]
  },
  {
   "cell_type": "markdown",
   "metadata": {},
   "source": [
    "Creating a new dataframe with our specific format"
   ]
  },
  {
   "cell_type": "code",
   "execution_count": 8,
   "metadata": {},
   "outputs": [
    {
     "data": {
      "text/html": [
       "<div>\n",
       "<style scoped>\n",
       "    .dataframe tbody tr th:only-of-type {\n",
       "        vertical-align: middle;\n",
       "    }\n",
       "\n",
       "    .dataframe tbody tr th {\n",
       "        vertical-align: top;\n",
       "    }\n",
       "\n",
       "    .dataframe thead th {\n",
       "        text-align: right;\n",
       "    }\n",
       "</style>\n",
       "<table border=\"1\" class=\"dataframe\">\n",
       "  <thead>\n",
       "    <tr style=\"text-align: right;\">\n",
       "      <th></th>\n",
       "      <th></th>\n",
       "      <th>Value</th>\n",
       "    </tr>\n",
       "    <tr>\n",
       "      <th>Date</th>\n",
       "      <th>Indicator</th>\n",
       "      <th></th>\n",
       "    </tr>\n",
       "  </thead>\n",
       "  <tbody>\n",
       "    <tr>\n",
       "      <td rowspan=\"3\" valign=\"top\">2020-01-24</td>\n",
       "      <td>ConfirmedCases</td>\n",
       "      <td>0</td>\n",
       "    </tr>\n",
       "    <tr>\n",
       "      <td>Deaths</td>\n",
       "      <td>0</td>\n",
       "    </tr>\n",
       "    <tr>\n",
       "      <td>Tests</td>\n",
       "      <td>2</td>\n",
       "    </tr>\n",
       "    <tr>\n",
       "      <td rowspan=\"2\" valign=\"top\">2020-01-25</td>\n",
       "      <td>ConfirmedCases</td>\n",
       "      <td>0</td>\n",
       "    </tr>\n",
       "    <tr>\n",
       "      <td>Deaths</td>\n",
       "      <td>0</td>\n",
       "    </tr>\n",
       "    <tr>\n",
       "      <td>...</td>\n",
       "      <td>...</td>\n",
       "      <td>...</td>\n",
       "    </tr>\n",
       "    <tr>\n",
       "      <td rowspan=\"2\" valign=\"top\">2020-04-28</td>\n",
       "      <td>Deaths</td>\n",
       "      <td>50788</td>\n",
       "    </tr>\n",
       "    <tr>\n",
       "      <td>Tests</td>\n",
       "      <td>680584</td>\n",
       "    </tr>\n",
       "    <tr>\n",
       "      <td rowspan=\"3\" valign=\"top\">2020-04-29</td>\n",
       "      <td>ConfirmedCases</td>\n",
       "      <td>189347</td>\n",
       "    </tr>\n",
       "    <tr>\n",
       "      <td>Deaths</td>\n",
       "      <td>52308</td>\n",
       "    </tr>\n",
       "    <tr>\n",
       "      <td>Tests</td>\n",
       "      <td>716238</td>\n",
       "    </tr>\n",
       "  </tbody>\n",
       "</table>\n",
       "<p>291 rows × 1 columns</p>\n",
       "</div>"
      ],
      "text/plain": [
       "                            Value\n",
       "Date       Indicator             \n",
       "2020-01-24 ConfirmedCases       0\n",
       "           Deaths               0\n",
       "           Tests                2\n",
       "2020-01-25 ConfirmedCases       0\n",
       "           Deaths               0\n",
       "...                           ...\n",
       "2020-04-28 Deaths           50788\n",
       "           Tests           680584\n",
       "2020-04-29 ConfirmedCases  189347\n",
       "           Deaths           52308\n",
       "           Tests           716238\n",
       "\n",
       "[291 rows x 1 columns]"
      ]
     },
     "execution_count": 8,
     "metadata": {},
     "output_type": "execute_result"
    }
   ],
   "source": [
    "uk_dataset = pd.DataFrame(index = dataset.index.levels[0] , columns = columns)\n",
    "uk_dataset.reset_index()\n",
    "uk_dataset = uk_dataset.fillna(0)\n",
    "\n",
    "dataset"
   ]
  },
  {
   "cell_type": "markdown",
   "metadata": {},
   "source": [
    "Filling the new dataframe with the avaiable data"
   ]
  },
  {
   "cell_type": "code",
   "execution_count": 5,
   "metadata": {
    "scrolled": true
   },
   "outputs": [],
   "source": [
    "from datetime import datetime, timedelta\n",
    "day = []\n",
    "for days in dataset.index.levels[0]:\n",
    "    try:\n",
    "        #from 2nd row ---- to subtract a day from the date we had to convert it to a date and then back to a string\n",
    "        yesterday = (datetime.strptime(days,\"%Y-%m-%d\")-timedelta(days=1)).strftime(\"%Y-%m-%d\")\n",
    "        uk_dataset.loc[days][\"daily_cases\"] = dataset.loc[days,\"ConfirmedCases\"][\"Value\"] - dataset.loc[yesterday,\"ConfirmedCases\"][\"Value\"]\n",
    "        uk_dataset.loc[days][\"daily_dead\"] = dataset.loc[days,\"Deaths\"][\"Value\"] - dataset.loc[yesterday,\"Deaths\"][\"Value\"]\n",
    "        uk_dataset.loc[days][\"daily_test\"] = dataset.loc[days,\"Tests\"][\"Value\"] - dataset.loc[yesterday,\"Tests\"][\"Value\"]\n",
    "    except:\n",
    "        #First row\n",
    "        uk_dataset.loc[days][\"daily_cases\"] = dataset.loc[days,\"ConfirmedCases\"][\"Value\"]\n",
    "        uk_dataset.loc[days][\"daily_dead\"] = dataset.loc[days,\"Deaths\"][\"Value\"]\n",
    "        uk_dataset.loc[days][\"daily_test\"] = dataset.loc[days,\"Tests\"][\"Value\"]\n",
    "    finally:\n",
    "        #Single row\n",
    "        uk_dataset.loc[days][\"total_cases\"] = dataset.loc[days,\"ConfirmedCases\"][\"Value\"]\n",
    "        #Missing recoveres -> uk_dataset.loc[days][\"actual_cases\"] =\n",
    "        uk_dataset.loc[days][\"total_dead\"] = dataset.loc[days,\"Deaths\"][\"Value\"]\n",
    "        uk_dataset.loc[days][\"total_test\"] = dataset.loc[days,\"Tests\"][\"Value\"]\n",
    "\n"
   ]
  },
  {
   "cell_type": "markdown",
   "metadata": {},
   "source": [
    "Converting dates from String to Datetime"
   ]
  },
  {
   "cell_type": "code",
   "execution_count": 6,
   "metadata": {},
   "outputs": [
    {
     "data": {
      "text/html": [
       "<div>\n",
       "<style scoped>\n",
       "    .dataframe tbody tr th:only-of-type {\n",
       "        vertical-align: middle;\n",
       "    }\n",
       "\n",
       "    .dataframe tbody tr th {\n",
       "        vertical-align: top;\n",
       "    }\n",
       "\n",
       "    .dataframe thead th {\n",
       "        text-align: right;\n",
       "    }\n",
       "</style>\n",
       "<table border=\"1\" class=\"dataframe\">\n",
       "  <thead>\n",
       "    <tr style=\"text-align: right;\">\n",
       "      <th></th>\n",
       "      <th>total_cases</th>\n",
       "      <th>daily_cases</th>\n",
       "      <th>total_dead</th>\n",
       "      <th>daily_dead</th>\n",
       "      <th>total_test</th>\n",
       "      <th>daily_test</th>\n",
       "    </tr>\n",
       "    <tr>\n",
       "      <th>date</th>\n",
       "      <th></th>\n",
       "      <th></th>\n",
       "      <th></th>\n",
       "      <th></th>\n",
       "      <th></th>\n",
       "      <th></th>\n",
       "    </tr>\n",
       "  </thead>\n",
       "  <tbody>\n",
       "    <tr>\n",
       "      <td>2020-04-25</td>\n",
       "      <td>284934</td>\n",
       "      <td>7264</td>\n",
       "      <td>47430</td>\n",
       "      <td>1675</td>\n",
       "      <td>611243</td>\n",
       "      <td>77162</td>\n",
       "    </tr>\n",
       "    <tr>\n",
       "      <td>2020-04-26</td>\n",
       "      <td>290870</td>\n",
       "      <td>5936</td>\n",
       "      <td>48231</td>\n",
       "      <td>801</td>\n",
       "      <td>639675</td>\n",
       "      <td>28432</td>\n",
       "    </tr>\n",
       "    <tr>\n",
       "      <td>2020-04-27</td>\n",
       "      <td>296129</td>\n",
       "      <td>5259</td>\n",
       "      <td>48912</td>\n",
       "      <td>681</td>\n",
       "      <td>668730</td>\n",
       "      <td>29055</td>\n",
       "    </tr>\n",
       "    <tr>\n",
       "      <td>2020-04-28</td>\n",
       "      <td>300645</td>\n",
       "      <td>4516</td>\n",
       "      <td>50788</td>\n",
       "      <td>1876</td>\n",
       "      <td>680584</td>\n",
       "      <td>11854</td>\n",
       "    </tr>\n",
       "    <tr>\n",
       "      <td>2020-04-29</td>\n",
       "      <td>189347</td>\n",
       "      <td>-111298</td>\n",
       "      <td>52308</td>\n",
       "      <td>1520</td>\n",
       "      <td>716238</td>\n",
       "      <td>35654</td>\n",
       "    </tr>\n",
       "  </tbody>\n",
       "</table>\n",
       "</div>"
      ],
      "text/plain": [
       "            total_cases  daily_cases  total_dead  daily_dead  total_test  \\\n",
       "date                                                                       \n",
       "2020-04-25       284934         7264       47430        1675      611243   \n",
       "2020-04-26       290870         5936       48231         801      639675   \n",
       "2020-04-27       296129         5259       48912         681      668730   \n",
       "2020-04-28       300645         4516       50788        1876      680584   \n",
       "2020-04-29       189347      -111298       52308        1520      716238   \n",
       "\n",
       "            daily_test  \n",
       "date                    \n",
       "2020-04-25       77162  \n",
       "2020-04-26       28432  \n",
       "2020-04-27       29055  \n",
       "2020-04-28       11854  \n",
       "2020-04-29       35654  "
      ]
     },
     "execution_count": 6,
     "metadata": {},
     "output_type": "execute_result"
    }
   ],
   "source": [
    "import datetime as dt\n",
    "\n",
    "index_list = uk_dataset.index.tolist()\n",
    "\n",
    "for i in range(len(index_list)):\n",
    "    index_list[i] = dt.datetime.strptime(index_list[i], '%Y-%m-%d').date()\n",
    "\n",
    "uk_dataset.index = index_list\n",
    "uk_dataset.index.name = 'date'\n",
    "\n",
    "uk_dataset.tail()"
   ]
  },
  {
   "cell_type": "code",
   "execution_count": 6,
   "metadata": {},
   "outputs": [],
   "source": [
    "#get path for os \n",
    "path = os.getcwd() + \"/parsed_data/united_kingdom/\"\n",
    "path = path.replace(\"/\",os.path.sep)\n",
    "#save data as CSV \n",
    "uk_dataset.to_csv (path + \"united_kingdom.csv\", index = True, header=True)"
   ]
  },
  {
   "cell_type": "code",
   "execution_count": null,
   "metadata": {},
   "outputs": [],
   "source": []
  }
 ],
 "metadata": {
  "celltoolbar": "Tags",
  "kernelspec": {
   "display_name": "Python 3",
   "language": "python",
   "name": "python3"
  },
  "language_info": {
   "codemirror_mode": {
    "name": "ipython",
    "version": 3
   },
   "file_extension": ".py",
   "mimetype": "text/x-python",
   "name": "python",
   "nbconvert_exporter": "python",
   "pygments_lexer": "ipython3",
   "version": "3.7.4"
  }
 },
 "nbformat": 4,
 "nbformat_minor": 2
}
