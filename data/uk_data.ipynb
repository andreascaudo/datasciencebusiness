{
 "cells": [
  {
   "cell_type": "markdown",
   "metadata": {},
   "source": [
    "Import UK data\n",
    "\n",
    "Healed data are missing - Actual cases can't be calculated"
   ]
  },
  {
   "cell_type": "code",
   "execution_count": 1,
   "metadata": {},
   "outputs": [],
   "source": [
    "import pandas as pd\n",
    "import glob\n",
    "import os\n",
    "\n",
    "#get path for os \n",
    "path = os.getcwd() + \"/data_source/UK/covid-19-uk-data-master/data/covid-19-indicators-uk.csv\"\n",
    "path = path.replace(\"/\",os.path.sep)\n",
    "\n",
    "columns = [\"total_cases\",\"daily_cases\",\"total_dead\",\"daily_dead\", \"total_test\",\"daily_test\"]\n",
    "\n",
    "dataset = pd.read_csv(path, index_col = 0)\n"
   ]
  },
  {
   "cell_type": "markdown",
   "metadata": {},
   "source": [
    "Grouping by data and indicator to sum the confirmed cases, deaths and tests among different regions"
   ]
  },
  {
   "cell_type": "code",
   "execution_count": 2,
   "metadata": {},
   "outputs": [],
   "source": [
    "dataset = dataset[dataset.Country.values == \"UK\"]\n",
    "dataset = dataset.groupby([\"Date\",\"Indicator\"]).sum()"
   ]
  },
  {
   "cell_type": "markdown",
   "metadata": {},
   "source": [
    "Creating a new dataframe with our specific format"
   ]
  },
  {
   "cell_type": "code",
   "execution_count": 3,
   "metadata": {},
   "outputs": [
    {
     "data": {
      "text/html": [
       "<div>\n",
       "<style scoped>\n",
       "    .dataframe tbody tr th:only-of-type {\n",
       "        vertical-align: middle;\n",
       "    }\n",
       "\n",
       "    .dataframe tbody tr th {\n",
       "        vertical-align: top;\n",
       "    }\n",
       "\n",
       "    .dataframe thead th {\n",
       "        text-align: right;\n",
       "    }\n",
       "</style>\n",
       "<table border=\"1\" class=\"dataframe\">\n",
       "  <thead>\n",
       "    <tr style=\"text-align: right;\">\n",
       "      <th></th>\n",
       "      <th></th>\n",
       "      <th>Value</th>\n",
       "    </tr>\n",
       "    <tr>\n",
       "      <th>Date</th>\n",
       "      <th>Indicator</th>\n",
       "      <th></th>\n",
       "    </tr>\n",
       "  </thead>\n",
       "  <tbody>\n",
       "    <tr>\n",
       "      <td rowspan=\"3\" valign=\"top\">2020-01-25</td>\n",
       "      <td>ConfirmedCases</td>\n",
       "      <td>0</td>\n",
       "    </tr>\n",
       "    <tr>\n",
       "      <td>Deaths</td>\n",
       "      <td>0</td>\n",
       "    </tr>\n",
       "    <tr>\n",
       "      <td>Tests</td>\n",
       "      <td>31</td>\n",
       "    </tr>\n",
       "    <tr>\n",
       "      <td rowspan=\"2\" valign=\"top\">2020-01-26</td>\n",
       "      <td>ConfirmedCases</td>\n",
       "      <td>0</td>\n",
       "    </tr>\n",
       "    <tr>\n",
       "      <td>Deaths</td>\n",
       "      <td>0</td>\n",
       "    </tr>\n",
       "    <tr>\n",
       "      <td>...</td>\n",
       "      <td>...</td>\n",
       "      <td>...</td>\n",
       "    </tr>\n",
       "    <tr>\n",
       "      <td rowspan=\"2\" valign=\"top\">2020-05-17</td>\n",
       "      <td>Deaths</td>\n",
       "      <td>34636</td>\n",
       "    </tr>\n",
       "    <tr>\n",
       "      <td>Tests</td>\n",
       "      <td>1818712</td>\n",
       "    </tr>\n",
       "    <tr>\n",
       "      <td rowspan=\"3\" valign=\"top\">2020-05-18</td>\n",
       "      <td>ConfirmedCases</td>\n",
       "      <td>246406</td>\n",
       "    </tr>\n",
       "    <tr>\n",
       "      <td>Deaths</td>\n",
       "      <td>34796</td>\n",
       "    </tr>\n",
       "    <tr>\n",
       "      <td>Tests</td>\n",
       "      <td>1887051</td>\n",
       "    </tr>\n",
       "  </tbody>\n",
       "</table>\n",
       "<p>345 rows × 1 columns</p>\n",
       "</div>"
      ],
      "text/plain": [
       "                             Value\n",
       "Date       Indicator              \n",
       "2020-01-25 ConfirmedCases        0\n",
       "           Deaths                0\n",
       "           Tests                31\n",
       "2020-01-26 ConfirmedCases        0\n",
       "           Deaths                0\n",
       "...                            ...\n",
       "2020-05-17 Deaths            34636\n",
       "           Tests           1818712\n",
       "2020-05-18 ConfirmedCases   246406\n",
       "           Deaths            34796\n",
       "           Tests           1887051\n",
       "\n",
       "[345 rows x 1 columns]"
      ]
     },
     "execution_count": 3,
     "metadata": {},
     "output_type": "execute_result"
    }
   ],
   "source": [
    "uk_dataset = pd.DataFrame(index = dataset.index.levels[0] , columns = columns)\n",
    "uk_dataset.reset_index()\n",
    "uk_dataset = uk_dataset.fillna(0)\n",
    "\n",
    "dataset"
   ]
  },
  {
   "cell_type": "markdown",
   "metadata": {},
   "source": [
    "Filling the new dataframe with the avaiable data"
   ]
  },
  {
   "cell_type": "code",
   "execution_count": 4,
   "metadata": {
    "scrolled": true
   },
   "outputs": [],
   "source": [
    "from datetime import datetime, timedelta\n",
    "day = []\n",
    "for days in dataset.index.levels[0]:\n",
    "    try:\n",
    "        #from 2nd row ---- to subtract a day from the date we had to convert it to a date and then back to a string\n",
    "        yesterday = (datetime.strptime(days,\"%Y-%m-%d\")-timedelta(days=1)).strftime(\"%Y-%m-%d\")\n",
    "        uk_dataset.loc[days][\"daily_cases\"] = dataset.loc[days,\"ConfirmedCases\"][\"Value\"] - dataset.loc[yesterday,\"ConfirmedCases\"][\"Value\"]\n",
    "        uk_dataset.loc[days][\"daily_dead\"] = dataset.loc[days,\"Deaths\"][\"Value\"] - dataset.loc[yesterday,\"Deaths\"][\"Value\"]\n",
    "        uk_dataset.loc[days][\"daily_test\"] = dataset.loc[days,\"Tests\"][\"Value\"] - dataset.loc[yesterday,\"Tests\"][\"Value\"]\n",
    "    except:\n",
    "        #First row\n",
    "        uk_dataset.loc[days][\"daily_cases\"] = dataset.loc[days,\"ConfirmedCases\"][\"Value\"]\n",
    "        uk_dataset.loc[days][\"daily_dead\"] = dataset.loc[days,\"Deaths\"][\"Value\"]\n",
    "        uk_dataset.loc[days][\"daily_test\"] = dataset.loc[days,\"Tests\"][\"Value\"]\n",
    "    finally:\n",
    "        #Single row\n",
    "        uk_dataset.loc[days][\"total_cases\"] = dataset.loc[days,\"ConfirmedCases\"][\"Value\"]\n",
    "        #Missing recoveres -> uk_dataset.loc[days][\"actual_cases\"] =\n",
    "        uk_dataset.loc[days][\"total_dead\"] = dataset.loc[days,\"Deaths\"][\"Value\"]\n",
    "        uk_dataset.loc[days][\"total_test\"] = dataset.loc[days,\"Tests\"][\"Value\"]\n",
    "\n"
   ]
  },
  {
   "cell_type": "markdown",
   "metadata": {},
   "source": [
    "Converting dates from String to Datetime"
   ]
  },
  {
   "cell_type": "code",
   "execution_count": 5,
   "metadata": {},
   "outputs": [
    {
     "data": {
      "text/html": [
       "<div>\n",
       "<style scoped>\n",
       "    .dataframe tbody tr th:only-of-type {\n",
       "        vertical-align: middle;\n",
       "    }\n",
       "\n",
       "    .dataframe tbody tr th {\n",
       "        vertical-align: top;\n",
       "    }\n",
       "\n",
       "    .dataframe thead th {\n",
       "        text-align: right;\n",
       "    }\n",
       "</style>\n",
       "<table border=\"1\" class=\"dataframe\">\n",
       "  <thead>\n",
       "    <tr style=\"text-align: right;\">\n",
       "      <th></th>\n",
       "      <th>total_cases</th>\n",
       "      <th>daily_cases</th>\n",
       "      <th>total_dead</th>\n",
       "      <th>daily_dead</th>\n",
       "      <th>total_test</th>\n",
       "      <th>daily_test</th>\n",
       "    </tr>\n",
       "    <tr>\n",
       "      <th>date</th>\n",
       "      <th></th>\n",
       "      <th></th>\n",
       "      <th></th>\n",
       "      <th></th>\n",
       "      <th></th>\n",
       "      <th></th>\n",
       "    </tr>\n",
       "  </thead>\n",
       "  <tbody>\n",
       "    <tr>\n",
       "      <td>2020-04-29</td>\n",
       "      <td>165221</td>\n",
       "      <td>4076</td>\n",
       "      <td>26097</td>\n",
       "      <td>795</td>\n",
       "      <td>632794</td>\n",
       "      <td>33455</td>\n",
       "    </tr>\n",
       "    <tr>\n",
       "      <td>2020-04-30</td>\n",
       "      <td>171253</td>\n",
       "      <td>6032</td>\n",
       "      <td>26771</td>\n",
       "      <td>674</td>\n",
       "      <td>687369</td>\n",
       "      <td>54575</td>\n",
       "    </tr>\n",
       "    <tr>\n",
       "      <td>2020-05-01</td>\n",
       "      <td>177454</td>\n",
       "      <td>6201</td>\n",
       "      <td>27510</td>\n",
       "      <td>739</td>\n",
       "      <td>762279</td>\n",
       "      <td>74910</td>\n",
       "    </tr>\n",
       "    <tr>\n",
       "      <td>2020-05-02</td>\n",
       "      <td>182260</td>\n",
       "      <td>4806</td>\n",
       "      <td>28131</td>\n",
       "      <td>621</td>\n",
       "      <td>825946</td>\n",
       "      <td>63667</td>\n",
       "    </tr>\n",
       "    <tr>\n",
       "      <td>2020-05-03</td>\n",
       "      <td>186599</td>\n",
       "      <td>4339</td>\n",
       "      <td>28446</td>\n",
       "      <td>315</td>\n",
       "      <td>882343</td>\n",
       "      <td>56397</td>\n",
       "    </tr>\n",
       "  </tbody>\n",
       "</table>\n",
       "</div>"
      ],
      "text/plain": [
       "            total_cases  daily_cases  total_dead  daily_dead  total_test  \\\n",
       "date                                                                       \n",
       "2020-04-29       165221         4076       26097         795      632794   \n",
       "2020-04-30       171253         6032       26771         674      687369   \n",
       "2020-05-01       177454         6201       27510         739      762279   \n",
       "2020-05-02       182260         4806       28131         621      825946   \n",
       "2020-05-03       186599         4339       28446         315      882343   \n",
       "\n",
       "            daily_test  \n",
       "date                    \n",
       "2020-04-29       33455  \n",
       "2020-04-30       54575  \n",
       "2020-05-01       74910  \n",
       "2020-05-02       63667  \n",
       "2020-05-03       56397  "
      ]
     },
     "execution_count": 5,
     "metadata": {},
     "output_type": "execute_result"
    }
   ],
   "source": [
    "import datetime as dt\n",
    "\n",
    "index_list = uk_dataset.index.tolist()\n",
    "\n",
    "for i in range(len(index_list)):\n",
    "    index_list[i] = dt.datetime.strptime(index_list[i], '%Y-%m-%d').date()\n",
    "\n",
    "uk_dataset.index = index_list\n",
    "uk_dataset.index.name = 'date'\n",
    "\n",
    "i = uk_dataset.index.get_loc(dt.date(2020, 5, 4))\n",
    "uk_dataset = uk_dataset.iloc[ 0:i , : ]\n",
    "\n",
    "uk_dataset.tail()"
   ]
  },
  {
   "cell_type": "code",
   "execution_count": 6,
   "metadata": {},
   "outputs": [],
   "source": [
    "#get path for os \n",
    "path = os.getcwd() + \"/parsed_data/united_kingdom/\"\n",
    "path = path.replace(\"/\",os.path.sep)\n",
    "#save data as CSV \n",
    "uk_dataset.to_csv (path + \"united_kingdom.csv\", index = True, header=True)"
   ]
  }
 ],
 "metadata": {
  "celltoolbar": "Tags",
  "kernelspec": {
   "display_name": "Python 3",
   "language": "python",
   "name": "python3"
  },
  "language_info": {
   "codemirror_mode": {
    "name": "ipython",
    "version": 3
   },
   "file_extension": ".py",
   "mimetype": "text/x-python",
   "name": "python",
   "nbconvert_exporter": "python",
   "pygments_lexer": "ipython3",
   "version": "3.7.4"
  }
 },
 "nbformat": 4,
 "nbformat_minor": 2
}
