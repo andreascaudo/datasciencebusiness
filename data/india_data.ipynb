{
 "cells": [
  {
   "cell_type": "markdown",
   "metadata": {},
   "source": [
    "# Import indian dataset"
   ]
  },
  {
   "cell_type": "code",
   "execution_count": 69,
   "metadata": {},
   "outputs": [],
   "source": [
    "import pandas as pd\n",
    "import glob\n",
    "import os\n",
    "\n",
    "#get path for os\n",
    "path = os.getcwd() + \"/data_source/India/covid19-in-india/\"\n",
    "path = path.replace(\"/\",os.path.sep)\n",
    "\n",
    "dttest = pd.read_csv(path + \"ICMRTestingDetails.csv\")\n",
    "dtepidemic = pd.read_csv(path + \"covid_19_india.csv\")"
   ]
  },
  {
   "cell_type": "code",
   "execution_count": 70,
   "metadata": {},
   "outputs": [
    {
     "data": {
      "text/plain": [
       "SNo                                1\n",
       "DateTime                  2020-03-13\n",
       "TotalSamplesTested              6500\n",
       "TotalIndividualsTested          5900\n",
       "TotalPositiveCases                78\n",
       "Name: 0, dtype: object"
      ]
     },
     "execution_count": 70,
     "metadata": {},
     "output_type": "execute_result"
    }
   ],
   "source": [
    "dtepidemic['Date'] = pd.to_datetime(dtepidemic['Date'], format=\"%d/%m/%y\")\n",
    "dttest[\"DateTime\"] = pd.to_datetime(dttest[\"DateTime\"], format=\"%d/%m/%y %H:%M\")\n",
    "dttest[\"DateTime\"] = dttest[\"DateTime\"].dt.date\n",
    "\n",
    "dttest.iloc[0]\n"
   ]
  },
  {
   "cell_type": "code",
   "execution_count": 71,
   "metadata": {},
   "outputs": [],
   "source": [
    "dtepidemic = dtepidemic.groupby('Date').sum().sort_values(by=[\"Date\"])\n",
    "dttest = dttest.set_index(\"DateTime\")\n",
    "dttest = dttest.drop([\"SNo\"], axis=1)"
   ]
  },
  {
   "cell_type": "code",
   "execution_count": 72,
   "metadata": {},
   "outputs": [],
   "source": [
    "dtindia_cols = [\"total_cases\",\"daily_cases\",\"total_healed\",\"daily_healed\",\"total_dead\",\"daily_dead\",\"total_test\",\"daily_test\",]\n",
    "dtindia_index = dtepidemic.index\n",
    "dtindia_index.name = \"date\"\n",
    "dtindia = pd.DataFrame(columns=dtindia_cols,  index=dtindia_index )"
   ]
  },
  {
   "cell_type": "code",
   "execution_count": 73,
   "metadata": {},
   "outputs": [
    {
     "name": "stdout",
     "output_type": "stream",
     "text": [
      "4\n",
      "2\n"
     ]
    }
   ],
   "source": [
    "dtindia[\"total_cases\"] = dtepidemic[\"Confirmed\"].values\n",
    "dtindia[\"total_healed\"] = dtepidemic[\"Cured\"].values\n",
    "dtindia[\"total_dead\"] = dtepidemic[\"Deaths\"].values\n",
    "dtindia[\"total_test\"] = dttest[\"TotalSamplesTested\"]\n",
    "dtindia.fillna(0, inplace=True)"
   ]
  },
  {
   "cell_type": "code",
   "execution_count": 74,
   "metadata": {},
   "outputs": [],
   "source": [
    "for i in range(len(dtindia)):\n",
    "    if i > 0:\n",
    "        if dtindia.iloc[i, dtindia.columns.get_loc(\"total_test\")] == 0:\n",
    "            dtindia.iloc[i, dtindia.columns.get_loc(\"total_test\")] = dtindia.iloc[i - 1, dtindia.columns.get_loc(\"total_test\")]"
   ]
  },
  {
   "cell_type": "code",
   "execution_count": 75,
   "metadata": {},
   "outputs": [],
   "source": [
    "for i in range(len(dtindia)):\n",
    "    if i==0:\n",
    "        dtindia.iloc[i, dtindia.columns.get_loc(\"daily_cases\")] = dtindia.iloc[i, dtindia.columns.get_loc(\"total_cases\")]\n",
    "        dtindia.iloc[i, dtindia.columns.get_loc(\"daily_healed\")] = dtindia.iloc[i, dtindia.columns.get_loc(\"total_healed\")]\n",
    "        dtindia.iloc[i, dtindia.columns.get_loc(\"daily_dead\")] = dtindia.iloc[i, dtindia.columns.get_loc(\"total_dead\")]\n",
    "        dtindia.iloc[i, dtindia.columns.get_loc(\"daily_test\")] = dtindia.iloc[i, dtindia.columns.get_loc(\"total_test\")]\n",
    "    else:\n",
    "        dtindia.iloc[i, dtindia.columns.get_loc(\"daily_cases\")] = dtindia.iloc[i, dtindia.columns.get_loc(\"total_cases\")] -  dtindia.iloc[i - 1, dtindia.columns.get_loc(\"total_cases\")]\n",
    "        dtindia.iloc[i, dtindia.columns.get_loc(\"daily_healed\")] = dtindia.iloc[i, dtindia.columns.get_loc(\"total_healed\")] - dtindia.iloc[i - 1, dtindia.columns.get_loc(\"total_healed\")]\n",
    "        dtindia.iloc[i, dtindia.columns.get_loc(\"daily_dead\")] = dtindia.iloc[i, dtindia.columns.get_loc(\"total_dead\")] - dtindia.iloc[i - 1, dtindia.columns.get_loc(\"total_dead\")]\n",
    "        dtindia.iloc[i, dtindia.columns.get_loc(\"daily_test\")] = dtindia.iloc[i, dtindia.columns.get_loc(\"total_test\")] - dtindia.iloc[i - 1, dtindia.columns.get_loc(\"total_test\")]"
   ]
  },
  {
   "cell_type": "code",
   "execution_count": 76,
   "metadata": {},
   "outputs": [],
   "source": [
    "dtindia.loc[:,dtindia_cols] = dtindia.loc[:,dtindia_cols].astype(int)"
   ]
  },
  {
   "cell_type": "markdown",
   "metadata": {},
   "source": [
    "Converting dates from String to Datetime"
   ]
  },
  {
   "cell_type": "code",
   "execution_count": 77,
   "metadata": {},
   "outputs": [
    {
     "data": {
      "text/plain": [
       "datetime.date(2020, 1, 30)"
      ]
     },
     "execution_count": 77,
     "metadata": {},
     "output_type": "execute_result"
    }
   ],
   "source": [
    "import datetime as dt\n",
    "\n",
    "index_list = dtindia.index.tolist()\n",
    "\n",
    "for i in range(len(index_list)):\n",
    "    index_list[i] = dt.datetime.strptime(str(index_list[i]), '%Y-%m-%d %H:%M:%S').date()\n",
    "\n",
    "dtindia.index = index_list\n",
    "dtindia.index.name = 'date'\n",
    "\n",
    "dtindia.index[0]"
   ]
  },
  {
   "cell_type": "code",
   "execution_count": 78,
   "metadata": {},
   "outputs": [],
   "source": [
    "#get path for os\n",
    "path = os.getcwd() + \"/parsed_data/india/\"\n",
    "path = path.replace(\"/\",os.path.sep)\n",
    "#save data as CSV\n",
    "dtindia.to_csv (path + \"india.csv\", index = True, header=True)"
   ]
  },
  {
   "cell_type": "code",
   "execution_count": null,
   "metadata": {},
   "outputs": [],
   "source": []
  }
 ],
 "metadata": {
  "celltoolbar": "Tags",
  "kernelspec": {
   "display_name": "Python 3",
   "language": "python",
   "name": "python3"
  },
  "language_info": {
   "codemirror_mode": {
    "name": "ipython",
    "version": 3
   },
   "file_extension": ".py",
   "mimetype": "text/x-python",
   "name": "python",
   "nbconvert_exporter": "python",
   "pygments_lexer": "ipython3",
   "version": "3.7.4"
  }
 },
 "nbformat": 4,
 "nbformat_minor": 2
}
