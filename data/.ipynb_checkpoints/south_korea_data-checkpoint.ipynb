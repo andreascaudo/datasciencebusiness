{
 "cells": [
  {
   "cell_type": "markdown",
   "metadata": {},
   "source": [
    "Import South Korea data"
   ]
  },
  {
   "cell_type": "code",
   "execution_count": 1,
   "metadata": {},
   "outputs": [],
   "source": [
    "import pandas as pd\n",
    "import glob\n",
    "import os\n",
    "\n",
    "#get path for os \n",
    "path = os.getcwd() + \"/data_source/SK/coronavirusdataset/Time.csv\"\n",
    "path = path.replace(\"/\",os.path.sep)\n",
    "\n",
    "columns = [\"total_cases\",\"daily_cases\",\"actual_cases\",\"total_healed\",\"daily_healed\",\"total_dead\",\"daily_dead\",\"total_test\",\"daily_test\"]\n",
    "\n",
    "\n",
    "dataset = pd.read_csv(path, index_col = 0)\n",
    "dataset = dataset.fillna(0)"
   ]
  },
  {
   "cell_type": "markdown",
   "metadata": {},
   "source": [
    "Grouping by date"
   ]
  },
  {
   "cell_type": "markdown",
   "metadata": {},
   "source": [
    "Creating a new dataframe with our specific format"
   ]
  },
  {
   "cell_type": "code",
   "execution_count": 2,
   "metadata": {},
   "outputs": [],
   "source": [
    "sk_dataset = pd.DataFrame().reindex_like(dataset)\n",
    "sk_dataset = pd.DataFrame(index = dataset.index , columns = columns) \n",
    "sk_dataset = sk_dataset.fillna(0)"
   ]
  },
  {
   "cell_type": "markdown",
   "metadata": {},
   "source": [
    "Filling the new dataframe with the avaiable data"
   ]
  },
  {
   "cell_type": "code",
   "execution_count": 3,
   "metadata": {
    "scrolled": true
   },
   "outputs": [],
   "source": [
    "from datetime import datetime, timedelta\n",
    "day = []\n",
    "for days in dataset.index:\n",
    "    try:\n",
    "        #from 2nd row ---- to subtract a day from the date we had to convert it to a date and then back to a string\n",
    "        yesterday = (datetime.strptime(days,\"%Y-%m-%d\")-timedelta(days=1)).strftime(\"%Y-%m-%d\")\n",
    "        sk_dataset.loc[days][\"daily_cases\"] = dataset.loc[days][\"confirmed\"] - dataset.loc[yesterday][\"confirmed\"]\n",
    "        sk_dataset.loc[days][\"daily_healed\"] = dataset.loc[days][\"released\"] - dataset.loc[yesterday][\"released\"]\n",
    "        sk_dataset.loc[days][\"daily_dead\"] = dataset.loc[days][\"deceased\"] - dataset.loc[yesterday][\"deceased\"]\n",
    "        sk_dataset.loc[days][\"daily_test\"] = dataset.loc[days][\"test\"] - dataset.loc[yesterday][\"test\"]\n",
    "    except:\n",
    "        #First row\n",
    "        sk_dataset.loc[days][\"daily_cases\"] = dataset.loc[days][\"confirmed\"]\n",
    "        sk_dataset.loc[days][\"daily_healed\"] = dataset.loc[days][\"released\"] \n",
    "        sk_dataset.loc[days][\"daily_dead\"] = dataset.loc[days][\"deceased\"]\n",
    "    finally:\n",
    "        #Single row\n",
    "        sk_dataset.loc[days][\"total_cases\"] = dataset.loc[days][\"confirmed\"]\n",
    "        sk_dataset.loc[days][\"actual_cases\"] = dataset.loc[days][\"confirmed\"] - dataset.loc[days][\"released\"] - dataset.loc[days][\"deceased\"]\n",
    "        sk_dataset.loc[days][\"total_healed\"] = dataset.loc[days][\"released\"]\n",
    "        sk_dataset.loc[days][\"total_dead\"] = dataset.loc[days][\"deceased\"]\n",
    "        sk_dataset.loc[days][\"total_test\"] = dataset.loc[days][\"test\"]\n"
   ]
  },
  {
   "cell_type": "markdown",
   "metadata": {},
   "source": [
    "Converting dates from String to Datetime"
   ]
  },
  {
   "cell_type": "code",
   "execution_count": 4,
   "metadata": {},
   "outputs": [],
   "source": [
    "import datetime as dt\n",
    "\n",
    "index_list = sk_dataset.index.tolist()\n",
    "\n",
    "for i in range(len(index_list)):\n",
    "    index_list[i] = dt.datetime.strptime(index_list[i], '%Y-%m-%d').date()\n",
    "\n",
    "sk_dataset.index = index_list\n",
    "sk_dataset.index.name = 'date'\n"
   ]
  },
  {
   "cell_type": "code",
   "execution_count": 5,
   "metadata": {},
   "outputs": [],
   "source": [
    "#get path for os \n",
    "path = os.getcwd() + \"/parsed_data/south_korea/\"\n",
    "path = path.replace(\"/\",os.path.sep)\n",
    "#save data as CSV \n",
    "sk_dataset.to_csv (path + \"south_korea.csv\", index = True, header=True)"
   ]
  },
  {
   "cell_type": "code",
   "execution_count": null,
   "metadata": {},
   "outputs": [],
   "source": []
  }
 ],
 "metadata": {
  "celltoolbar": "Tags",
  "kernelspec": {
   "display_name": "Python 3",
   "language": "python",
   "name": "python3"
  },
  "language_info": {
   "codemirror_mode": {
    "name": "ipython",
    "version": 3
   },
   "file_extension": ".py",
   "mimetype": "text/x-python",
   "name": "python",
   "nbconvert_exporter": "python",
   "pygments_lexer": "ipython3",
   "version": "3.7.4"
  }
 },
 "nbformat": 4,
 "nbformat_minor": 2
}
