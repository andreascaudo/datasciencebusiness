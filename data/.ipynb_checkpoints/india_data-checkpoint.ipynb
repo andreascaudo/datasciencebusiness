{
 "cells": [
  {
   "cell_type": "markdown",
   "metadata": {},
   "source": [
    "# Import indian dataset"
   ]
  },
  {
   "cell_type": "code",
   "execution_count": 1,
   "metadata": {},
   "outputs": [],
   "source": [
    "import pandas as pd\n",
    "import glob\n",
    "import os\n",
    "\n",
    "#get path for os\n",
    "path = os.getcwd() + \"/data_source/India/covid19-in-india/\"\n",
    "path = path.replace(\"/\",os.path.sep)\n",
    "\n",
    "dttest = pd.read_csv(path + \"ICMRTestingDetails.csv\")\n",
    "dtepidemic = pd.read_csv(path + \"covid_19_india.csv\")"
   ]
  },
  {
   "cell_type": "code",
   "execution_count": 2,
   "metadata": {},
   "outputs": [
    {
     "name": "stdout",
     "output_type": "stream",
     "text": [
      "0      2020-01-30\n",
      "1      2020-01-31\n",
      "2      2020-02-01\n",
      "3      2020-02-02\n",
      "4      2020-02-03\n",
      "          ...    \n",
      "1473   2020-04-30\n",
      "1474   2020-04-30\n",
      "1475   2020-04-30\n",
      "1476   2020-04-30\n",
      "1477   2020-04-30\n",
      "Name: Date, Length: 1478, dtype: datetime64[ns]\n",
      "0     2020-03-13\n",
      "1     2020-03-18\n",
      "2     2020-03-19\n",
      "3     2020-03-20\n",
      "4     2020-03-21\n",
      "5     2020-03-22\n",
      "6     2020-03-23\n",
      "7     2020-03-24\n",
      "8     2020-03-25\n",
      "9     2020-03-26\n",
      "10    2020-03-27\n",
      "11    2020-03-28\n",
      "12    2020-03-29\n",
      "13    2020-03-30\n",
      "14    2020-03-31\n",
      "15    2020-01-04\n",
      "16    2020-02-04\n",
      "17    2020-03-04\n",
      "18    2020-04-04\n",
      "19    2020-05-04\n",
      "20    2020-06-04\n",
      "21    2020-07-04\n",
      "22    2020-08-04\n",
      "23    2020-09-04\n",
      "24    2020-10-04\n",
      "25    2020-11-04\n",
      "26    2020-12-04\n",
      "27    2020-04-13\n",
      "28    2020-04-14\n",
      "29    2020-04-15\n",
      "30    2020-04-16\n",
      "31    2020-04-17\n",
      "32    2020-04-18\n",
      "33    2020-04-19\n",
      "34    2020-04-20\n",
      "35    2020-04-21\n",
      "36    2020-04-22\n",
      "37    2020-04-23\n",
      "38    2020-04-24\n",
      "39    2020-04-25\n",
      "40    2020-04-26\n",
      "41    2020-04-27\n",
      "Name: DateTime, dtype: object\n"
     ]
    }
   ],
   "source": [
    "dtepidemic['Date'] = pd.to_datetime(dtepidemic['Date'], format=\"%d/%m/%y\")\n",
    "dttest[\"DateTime\"] = pd.to_datetime(dttest[\"DateTime\"])\n",
    "dttest[\"DateTime\"] = dttest[\"DateTime\"].dt.date\n",
    "\n",
    "print(dtepidemic['Date'])\n",
    "print(dttest[\"DateTime\"])"
   ]
  },
  {
   "cell_type": "code",
   "execution_count": 3,
   "metadata": {},
   "outputs": [],
   "source": [
    "dtepidemic = dtepidemic.groupby('Date').sum().sort_values(by=[\"Date\"])\n",
    "dttest = dttest.groupby('DateTime').sum().sort_values(by=[\"DateTime\"])"
   ]
  },
  {
   "cell_type": "code",
   "execution_count": 4,
   "metadata": {},
   "outputs": [],
   "source": [
    "dtindia_cols = [\"total_cases\",\"daily_cases\",\"total_healed\",\"daily_healed\",\"total_dead\",\"daily_dead\",\"total_test\",\"daily_test\",]\n",
    "dtindia_index = dtepidemic.index\n",
    "dtindia_index.name = \"date\"\n",
    "dtindia = pd.DataFrame(columns=dtindia_cols,  index=dtindia_index )"
   ]
  },
  {
   "cell_type": "code",
   "execution_count": 5,
   "metadata": {},
   "outputs": [],
   "source": [
    "dtindia[\"total_cases\"] = dtepidemic[\"Confirmed\"].values\n",
    "dtindia[\"total_healed\"] = dtepidemic[\"Cured\"].values\n",
    "dtindia[\"total_dead\"] = dtepidemic[\"Deaths\"].values\n",
    "dtindia[\"total_test\"] = dttest[\"TotalSamplesTested\"]\n",
    "dtindia.fillna(0, inplace=True)"
   ]
  },
  {
   "cell_type": "code",
   "execution_count": 6,
   "metadata": {},
   "outputs": [],
   "source": [
    "for i in range(len(dtindia)):\n",
    "    if i > 0:\n",
    "        if dtindia.iloc[i, dtindia.columns.get_loc(\"total_test\")] == 0:\n",
    "            dtindia.iloc[i, dtindia.columns.get_loc(\"total_test\")] = dtindia.iloc[i - 1, dtindia.columns.get_loc(\"total_test\")]"
   ]
  },
  {
   "cell_type": "code",
   "execution_count": 7,
   "metadata": {},
   "outputs": [],
   "source": [
    "for i in range(len(dtindia)):\n",
    "    if i==0:\n",
    "        dtindia.iloc[i, dtindia.columns.get_loc(\"daily_cases\")] = dtindia.iloc[i, dtindia.columns.get_loc(\"total_cases\")]\n",
    "        dtindia.iloc[i, dtindia.columns.get_loc(\"daily_healed\")] = dtindia.iloc[i, dtindia.columns.get_loc(\"total_healed\")]\n",
    "        dtindia.iloc[i, dtindia.columns.get_loc(\"daily_dead\")] = dtindia.iloc[i, dtindia.columns.get_loc(\"total_dead\")]\n",
    "        dtindia.iloc[i, dtindia.columns.get_loc(\"daily_test\")] = dtindia.iloc[i, dtindia.columns.get_loc(\"total_test\")]\n",
    "    else:\n",
    "        dtindia.iloc[i, dtindia.columns.get_loc(\"daily_cases\")] = dtindia.iloc[i, dtindia.columns.get_loc(\"total_cases\")] -  dtindia.iloc[i - 1, dtindia.columns.get_loc(\"total_cases\")]\n",
    "        dtindia.iloc[i, dtindia.columns.get_loc(\"daily_healed\")] = dtindia.iloc[i, dtindia.columns.get_loc(\"total_healed\")] - dtindia.iloc[i - 1, dtindia.columns.get_loc(\"total_healed\")]\n",
    "        dtindia.iloc[i, dtindia.columns.get_loc(\"daily_dead\")] = dtindia.iloc[i, dtindia.columns.get_loc(\"total_dead\")] - dtindia.iloc[i - 1, dtindia.columns.get_loc(\"total_dead\")]\n",
    "        dtindia.iloc[i, dtindia.columns.get_loc(\"daily_test\")] = dtindia.iloc[i, dtindia.columns.get_loc(\"total_test\")] - dtindia.iloc[i - 1, dtindia.columns.get_loc(\"total_test\")]"
   ]
  },
  {
   "cell_type": "code",
   "execution_count": 8,
   "metadata": {},
   "outputs": [],
   "source": [
    "dtindia.loc[:,dtindia_cols] = dtindia.loc[:,dtindia_cols].astype(int)"
   ]
  },
  {
   "cell_type": "markdown",
   "metadata": {},
   "source": [
    "Converting dates from String to Datetime"
   ]
  },
  {
   "cell_type": "code",
   "execution_count": 9,
   "metadata": {},
   "outputs": [
    {
     "data": {
      "text/plain": [
       "datetime.date(2020, 1, 30)"
      ]
     },
     "execution_count": 9,
     "metadata": {},
     "output_type": "execute_result"
    }
   ],
   "source": [
    "import datetime as dt\n",
    "\n",
    "index_list = dtindia.index.tolist()\n",
    "\n",
    "for i in range(len(index_list)):\n",
    "    index_list[i] = dt.datetime.strptime(str(index_list[i]), '%Y-%m-%d %H:%M:%S').date()\n",
    "\n",
    "dtindia.index = index_list\n",
    "dtindia.index.name = 'date'\n",
    "\n",
    "dtindia.index[0]"
   ]
  },
  {
   "cell_type": "code",
   "execution_count": 10,
   "metadata": {},
   "outputs": [],
   "source": [
    "#get path for os\n",
    "path = os.getcwd() + \"/parsed_data/india/\"\n",
    "path = path.replace(\"/\",os.path.sep)\n",
    "#save data as CSV\n",
    "dtindia.to_csv (path + \"india.csv\", index = True, header=True)"
   ]
  },
  {
   "cell_type": "code",
   "execution_count": null,
   "metadata": {},
   "outputs": [],
   "source": []
  }
 ],
 "metadata": {
  "celltoolbar": "Tags",
  "kernelspec": {
   "display_name": "Python 3",
   "language": "python",
   "name": "python3"
  },
  "language_info": {
   "codemirror_mode": {
    "name": "ipython",
    "version": 3
   },
   "file_extension": ".py",
   "mimetype": "text/x-python",
   "name": "python",
   "nbconvert_exporter": "python",
   "pygments_lexer": "ipython3",
   "version": "3.7.4"
  }
 },
 "nbformat": 4,
 "nbformat_minor": 2
}
