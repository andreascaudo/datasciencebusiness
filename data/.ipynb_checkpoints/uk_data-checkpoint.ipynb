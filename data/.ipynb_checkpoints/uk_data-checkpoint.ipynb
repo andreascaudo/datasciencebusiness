{
 "cells": [
  {
   "cell_type": "markdown",
   "metadata": {},
   "source": [
    "Import UK data\n",
    "\n",
    "Healed data are missing - Actual cases can't be calculated"
   ]
  },
  {
   "cell_type": "code",
   "execution_count": 1,
   "metadata": {},
   "outputs": [],
   "source": [
    "import pandas as pd\n",
    "import glob\n",
    "import os\n",
    "\n",
    "#get path for os \n",
    "path = os.getcwd() + \"/data_source/UK/covid-19-uk-data-master/data/covid-19-indicators-uk.csv\"\n",
    "path = path.replace(\"/\",os.path.sep)\n",
    "\n",
    "columns = [\"total_cases\",\"daily_cases\",\"total_dead\",\"daily_dead\", \"total_test\",\"daily_test\"]\n",
    "\n",
    "dataset = pd.read_csv(path, index_col = 0)"
   ]
  },
  {
   "cell_type": "markdown",
   "metadata": {},
   "source": [
    "Grouping by data and indicator to sum the confirmed cases, deaths and tests among different regions"
   ]
  },
  {
   "cell_type": "code",
   "execution_count": 2,
   "metadata": {},
   "outputs": [],
   "source": [
    "dataset = dataset.groupby([\"Date\",\"Indicator\"]).sum()"
   ]
  },
  {
   "cell_type": "markdown",
   "metadata": {},
   "source": [
    "Creating a new dataframe with our specific format"
   ]
  },
  {
   "cell_type": "code",
   "execution_count": 3,
   "metadata": {},
   "outputs": [],
   "source": [
    "uk_dataset = pd.DataFrame(index = dataset.index.levels[0] , columns = columns)\n",
    "uk_dataset.reset_index()\n",
    "uk_dataset = uk_dataset.fillna(0)\n"
   ]
  },
  {
   "cell_type": "markdown",
   "metadata": {},
   "source": [
    "Filling the new dataframe with the avaiable data"
   ]
  },
  {
   "cell_type": "code",
   "execution_count": 4,
   "metadata": {
    "scrolled": true
   },
   "outputs": [],
   "source": [
    "from datetime import datetime, timedelta\n",
    "day = []\n",
    "for days in dataset.index.levels[0]:\n",
    "    try:\n",
    "        #from 2nd row ---- to subtract a day from the date we had to convert it to a date and then back to a string\n",
    "        yesterday = (datetime.strptime(days,\"%Y-%m-%d\")-timedelta(days=1)).strftime(\"%Y-%m-%d\")\n",
    "        uk_dataset.loc[days][\"daily_cases\"] = dataset.loc[days,\"ConfirmedCases\"][\"Value\"] - dataset.loc[yesterday,\"ConfirmedCases\"][\"Value\"]\n",
    "        uk_dataset.loc[days][\"daily_dead\"] = dataset.loc[days,\"Deaths\"][\"Value\"] - dataset.loc[yesterday,\"Deaths\"][\"Value\"]\n",
    "        uk_dataset.loc[days][\"daily_test\"] = dataset.loc[days,\"Tests\"][\"Value\"] - dataset.loc[yesterday,\"Tests\"][\"Value\"]\n",
    "    except:\n",
    "        #First row\n",
    "        uk_dataset.loc[days][\"daily_cases\"] = dataset.loc[days,\"ConfirmedCases\"][\"Value\"]\n",
    "        uk_dataset.loc[days][\"daily_dead\"] = dataset.loc[days,\"Deaths\"][\"Value\"]\n",
    "        uk_dataset.loc[days][\"daily_test\"] = dataset.loc[days,\"Tests\"][\"Value\"]\n",
    "    finally:\n",
    "        #Single row\n",
    "        uk_dataset.loc[days][\"total_cases\"] = dataset.loc[days,\"ConfirmedCases\"][\"Value\"]\n",
    "        #Missing recoveres -> uk_dataset.loc[days][\"actual_cases\"] =\n",
    "        uk_dataset.loc[days][\"total_dead\"] = dataset.loc[days,\"Deaths\"][\"Value\"]\n",
    "        uk_dataset.loc[days][\"total_test\"] = dataset.loc[days,\"Tests\"][\"Value\"]\n",
    "\n"
   ]
  },
  {
   "cell_type": "markdown",
   "metadata": {},
   "source": [
    "Converting dates from String to Datetime"
   ]
  },
  {
   "cell_type": "code",
   "execution_count": 5,
   "metadata": {},
   "outputs": [],
   "source": [
    "import datetime as dt\n",
    "\n",
    "index_list = uk_dataset.index.tolist()\n",
    "\n",
    "for i in range(len(index_list)):\n",
    "    index_list[i] = dt.datetime.strptime(index_list[i], '%Y-%m-%d').date()\n",
    "\n",
    "uk_dataset.index = index_list\n",
    "uk_dataset.index.name = 'date'"
   ]
  },
  {
   "cell_type": "code",
   "execution_count": 6,
   "metadata": {},
   "outputs": [],
   "source": [
    "#get path for os \n",
    "path = os.getcwd() + \"/parsed_data/united_kingdom/\"\n",
    "path = path.replace(\"/\",os.path.sep)\n",
    "#save data as CSV \n",
    "uk_dataset.to_csv (path + \"united_kingdom.csv\", index = True, header=True)"
   ]
  },
  {
   "cell_type": "code",
   "execution_count": null,
   "metadata": {},
   "outputs": [],
   "source": []
  }
 ],
 "metadata": {
  "celltoolbar": "Tags",
  "kernelspec": {
   "display_name": "Python 3",
   "language": "python",
   "name": "python3"
  },
  "language_info": {
   "codemirror_mode": {
    "name": "ipython",
    "version": 3
   },
   "file_extension": ".py",
   "mimetype": "text/x-python",
   "name": "python",
   "nbconvert_exporter": "python",
   "pygments_lexer": "ipython3",
   "version": "3.7.4"
  }
 },
 "nbformat": 4,
 "nbformat_minor": 2
}
