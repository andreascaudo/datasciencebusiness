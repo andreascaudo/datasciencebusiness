{
 "cells": [
  {
   "cell_type": "markdown",
   "metadata": {},
   "source": [
    "Import data from Brazil"
   ]
  },
  {
   "cell_type": "code",
   "execution_count": 67,
   "metadata": {},
   "outputs": [],
   "source": [
    "import pandas as pd\n",
    "import glob\n",
    "import os\n",
    "\n",
    "#get path for os\n",
    "path = os.getcwd() + \"/data_source/Brazil/brazil_covid19.csv\"\n",
    "path = path.replace(\"/\",os.path.sep)\n",
    "\n",
    "columns = [\"total_cases\",\"daily_cases\",\"actual_cases\",\"total_dead\",\"daily_dead\", \"total_test\",\"daily_test\"]\n",
    "\n",
    "dataset = pd.read_csv(path, index_col = 0)\n",
    "dataset = dataset.fillna(0)\n",
    "\n",
    "dataset[\"cases\"] = pd.to_numeric(dataset[\"cases\"], downcast='integer')"
   ]
  },
  {
   "cell_type": "code",
   "execution_count": 68,
   "metadata": {},
   "outputs": [],
   "source": [
    "#Delate duplicated values with the same index!\n",
    "dataset = dataset[~dataset.reset_index().duplicated().values]"
   ]
  },
  {
   "cell_type": "markdown",
   "metadata": {},
   "source": [
    "Grouping by date"
   ]
  },
  {
   "cell_type": "code",
   "execution_count": 69,
   "metadata": {},
   "outputs": [],
   "source": [
    "dataset = dataset.groupby([\"date\"]).sum()"
   ]
  },
  {
   "cell_type": "markdown",
   "metadata": {},
   "source": [
    "Day 2020-03-09 is missing so we add the date with unchanged values from 2020-03-08"
   ]
  },
  {
   "cell_type": "code",
   "execution_count": 70,
   "metadata": {},
   "outputs": [],
   "source": [
    "dataset.loc[\"2020-03-09\"] = dataset.loc[\"2020-03-08\"]\n",
    "dataset.sort_index(inplace=True)"
   ]
  },
  {
   "cell_type": "markdown",
   "metadata": {},
   "source": [
    "Creating a new dataframe with our specific format"
   ]
  },
  {
   "cell_type": "code",
   "execution_count": 71,
   "metadata": {},
   "outputs": [
    {
     "data": {
      "text/html": [
       "<div>\n",
       "<style scoped>\n",
       "    .dataframe tbody tr th:only-of-type {\n",
       "        vertical-align: middle;\n",
       "    }\n",
       "\n",
       "    .dataframe tbody tr th {\n",
       "        vertical-align: top;\n",
       "    }\n",
       "\n",
       "    .dataframe thead th {\n",
       "        text-align: right;\n",
       "    }\n",
       "</style>\n",
       "<table border=\"1\" class=\"dataframe\">\n",
       "  <thead>\n",
       "    <tr style=\"text-align: right;\">\n",
       "      <th></th>\n",
       "      <th>suspects</th>\n",
       "      <th>refuses</th>\n",
       "      <th>cases</th>\n",
       "      <th>deaths</th>\n",
       "    </tr>\n",
       "    <tr>\n",
       "      <th>date</th>\n",
       "      <th></th>\n",
       "      <th></th>\n",
       "      <th></th>\n",
       "      <th></th>\n",
       "    </tr>\n",
       "  </thead>\n",
       "  <tbody>\n",
       "    <tr>\n",
       "      <td>2020-01-30</td>\n",
       "      <td>9</td>\n",
       "      <td>6</td>\n",
       "      <td>0</td>\n",
       "      <td>0</td>\n",
       "    </tr>\n",
       "    <tr>\n",
       "      <td>2020-01-31</td>\n",
       "      <td>13</td>\n",
       "      <td>9</td>\n",
       "      <td>0</td>\n",
       "      <td>0</td>\n",
       "    </tr>\n",
       "    <tr>\n",
       "      <td>2020-02-01</td>\n",
       "      <td>16</td>\n",
       "      <td>10</td>\n",
       "      <td>0</td>\n",
       "      <td>0</td>\n",
       "    </tr>\n",
       "    <tr>\n",
       "      <td>2020-02-02</td>\n",
       "      <td>16</td>\n",
       "      <td>10</td>\n",
       "      <td>0</td>\n",
       "      <td>0</td>\n",
       "    </tr>\n",
       "    <tr>\n",
       "      <td>2020-02-03</td>\n",
       "      <td>14</td>\n",
       "      <td>13</td>\n",
       "      <td>0</td>\n",
       "      <td>0</td>\n",
       "    </tr>\n",
       "    <tr>\n",
       "      <td>...</td>\n",
       "      <td>...</td>\n",
       "      <td>...</td>\n",
       "      <td>...</td>\n",
       "      <td>...</td>\n",
       "    </tr>\n",
       "    <tr>\n",
       "      <td>2020-03-26</td>\n",
       "      <td>0</td>\n",
       "      <td>0</td>\n",
       "      <td>2915</td>\n",
       "      <td>77</td>\n",
       "    </tr>\n",
       "    <tr>\n",
       "      <td>2020-03-27</td>\n",
       "      <td>0</td>\n",
       "      <td>0</td>\n",
       "      <td>3417</td>\n",
       "      <td>92</td>\n",
       "    </tr>\n",
       "    <tr>\n",
       "      <td>2020-03-28</td>\n",
       "      <td>0</td>\n",
       "      <td>0</td>\n",
       "      <td>3904</td>\n",
       "      <td>114</td>\n",
       "    </tr>\n",
       "    <tr>\n",
       "      <td>2020-03-29</td>\n",
       "      <td>0</td>\n",
       "      <td>0</td>\n",
       "      <td>4256</td>\n",
       "      <td>136</td>\n",
       "    </tr>\n",
       "    <tr>\n",
       "      <td>2020-03-30</td>\n",
       "      <td>0</td>\n",
       "      <td>0</td>\n",
       "      <td>4579</td>\n",
       "      <td>159</td>\n",
       "    </tr>\n",
       "  </tbody>\n",
       "</table>\n",
       "<p>61 rows × 4 columns</p>\n",
       "</div>"
      ],
      "text/plain": [
       "            suspects  refuses  cases  deaths\n",
       "date                                        \n",
       "2020-01-30         9        6      0       0\n",
       "2020-01-31        13        9      0       0\n",
       "2020-02-01        16       10      0       0\n",
       "2020-02-02        16       10      0       0\n",
       "2020-02-03        14       13      0       0\n",
       "...              ...      ...    ...     ...\n",
       "2020-03-26         0        0   2915      77\n",
       "2020-03-27         0        0   3417      92\n",
       "2020-03-28         0        0   3904     114\n",
       "2020-03-29         0        0   4256     136\n",
       "2020-03-30         0        0   4579     159\n",
       "\n",
       "[61 rows x 4 columns]"
      ]
     },
     "execution_count": 71,
     "metadata": {},
     "output_type": "execute_result"
    }
   ],
   "source": [
    "brazil_dataset = pd.DataFrame().reindex_like(dataset)\n",
    "brazil_dataset = pd.DataFrame(index = dataset.index , columns = columns) \n",
    "brazil_dataset = brazil_dataset.fillna(0)\n",
    "\n",
    "dataset"
   ]
  },
  {
   "cell_type": "markdown",
   "metadata": {},
   "source": [
    "Filling the new dataframe with the avaiable data"
   ]
  },
  {
   "cell_type": "code",
   "execution_count": 72,
   "metadata": {
    "scrolled": true
   },
   "outputs": [],
   "source": [
    "from datetime import datetime, timedelta\n",
    "\n",
    "for days in dataset.index:\n",
    "    try:\n",
    "        #from 2nd row ---- to subtract a day from the date we had to convert it to a date and then back to a string\n",
    "        yesterday = (datetime.strptime(days,\"%Y-%m-%d\")-timedelta(days=1)).strftime(\"%Y-%m-%d\")\n",
    "        brazil_dataset.loc[days][\"daily_cases\"] = dataset.loc[days][\"cases\"]-dataset.loc[yesterday][\"cases\"]\n",
    "        brazil_dataset.loc[days][\"daily_dead\"] = dataset.loc[days][\"deaths\"] - dataset.loc[yesterday][\"deaths\"]\n",
    "        brazil_dataset.loc[days][\"daily_test\"] = (dataset.loc[days][\"suspects\"] + dataset.loc[days][\"refuses\"] + dataset.loc[days][\"cases\"]) - (dataset.loc[yesterday][\"suspects\"] + dataset.loc[yesterday][\"refuses\"] + dataset.loc[yesterday][\"cases\"])\n",
    "    except:\n",
    "        #First row\n",
    "        brazil_dataset.loc[days][\"daily_cases\"] = dataset.loc[days][\"cases\"]\n",
    "        brazil_dataset.loc[days][\"daily_dead\"] = dataset.loc[days][\"deaths\"]\n",
    "        brazil_dataset.loc[days][\"daily_test\"] = dataset.loc[days][\"suspects\"] + dataset.loc[days][\"refuses\"] + dataset.loc[days][\"cases\"]\n",
    "    finally:\n",
    "        #Single row\n",
    "        brazil_dataset.loc[days][\"total_cases\"] = dataset.loc[days][\"cases\"]\n",
    "        #Missing recovered -> brazil_dataset.loc[days][\"actual_cases\"] =\n",
    "        brazil_dataset.loc[days][\"total_dead\"] = dataset.loc[days][\"deaths\"]\n",
    "        brazil_dataset.loc[days][\"total_test\"] = dataset.loc[days][\"suspects\"] + dataset.loc[days][\"refuses\"] + dataset.loc[days][\"cases\"]\n"
   ]
  },
  {
   "cell_type": "markdown",
   "metadata": {},
   "source": [
    "Converting dates from String to Datetime"
   ]
  },
  {
   "cell_type": "code",
   "execution_count": 73,
   "metadata": {},
   "outputs": [],
   "source": [
    "import datetime as dt\n",
    "\n",
    "index_list = brazil_dataset.index.tolist()\n",
    "\n",
    "for i in range(len(index_list)):\n",
    "    index_list[i] = dt.datetime.strptime(index_list[i], '%Y-%m-%d').date()\n",
    "\n",
    "brazil_dataset.index = index_list\n",
    "brazil_dataset.index.name = 'date'"
   ]
  },
  {
   "cell_type": "markdown",
   "metadata": {},
   "source": [
    "Il Database negli ultimi giorni è diventato inconsistente, per esempio in San Paolo il numero di sospetti e negativi diventa 0, nonstante i dati siano comulativi"
   ]
  },
  {
   "cell_type": "code",
   "execution_count": 74,
   "metadata": {},
   "outputs": [],
   "source": [
    "#get path for os\n",
    "path = os.getcwd() +  \"/parsed_data/brazil/\"\n",
    "path = path.replace(\"/\",os.path.sep)\n",
    "#save data as CSV \n",
    "brazil_dataset.to_csv (path + \"brazil.csv\", index = True, header=True)"
   ]
  }
 ],
 "metadata": {
  "celltoolbar": "Tags",
  "kernelspec": {
   "display_name": "Python 3",
   "language": "python",
   "name": "python3"
  },
  "language_info": {
   "codemirror_mode": {
    "name": "ipython",
    "version": 3
   },
   "file_extension": ".py",
   "mimetype": "text/x-python",
   "name": "python",
   "nbconvert_exporter": "python",
   "pygments_lexer": "ipython3",
   "version": "3.7.4"
  }
 },
 "nbformat": 4,
 "nbformat_minor": 2
}
